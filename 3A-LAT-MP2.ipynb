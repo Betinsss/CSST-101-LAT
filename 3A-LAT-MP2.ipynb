{
  "cells": [
    {
      "cell_type": "markdown",
      "metadata": {
        "id": "view-in-github",
        "colab_type": "text"
      },
      "source": [
        "<a href=\"https://colab.research.google.com/github/Betinsss/CSST101-CS3A/blob/main/3A_LAT_MP2.ipynb\" target=\"_parent\"><img src=\"https://colab.research.google.com/assets/colab-badge.svg\" alt=\"Open In Colab\"/></a>"
      ]
    },
    {
      "cell_type": "markdown",
      "metadata": {
        "id": "Jk8BGgWOVKK3"
      },
      "source": [
        "#1.  Propositional and Predicate Logic with AI Agent Decision-Making\n",
        "\n",
        "This notebook demonstrates the implementation of basic propositional logic operations and predicate logic using Python. It also showcases evaluating logical statements and using quantifiers for predicate logic (`forall`, `exists`). Finally, we extend the implementation to simulate decision-making for an AI agent based on logical conditions.\n",
        "\n"
      ]
    },
    {
      "cell_type": "markdown",
      "metadata": {
        "id": "99S3jvi9VT-f"
      },
      "source": [
        "## Propositional Logic Operations\n",
        "\n",
        "We define the basic propositional logic operations: AND, OR, NOT, and IMPLIES. These functions are the foundation of logical reasoning.\n"
      ]
    },
    {
      "cell_type": "code",
      "execution_count": 1,
      "metadata": {
        "colab": {
          "base_uri": "https://localhost:8080/"
        },
        "id": "NGtz_-3vWprO",
        "outputId": "717cc135-69c3-4945-900a-111a6f859bf3"
      },
      "outputs": [
        {
          "output_type": "stream",
          "name": "stdout",
          "text": [
            "AND(True, False): False\n",
            "OR(True, False): True\n",
            "NOT(True): False\n",
            "IMPLIES(True, False): False\n"
          ]
        }
      ],
      "source": [
        "def AND(p, q):\n",
        "    return p and q\n",
        "\n",
        "def OR(p, q):\n",
        "    return p or q\n",
        "\n",
        "def NOT(p):\n",
        "    return not p\n",
        "\n",
        "def IMPLIES(p, q):\n",
        "    return (not p) or q\n",
        "\n",
        "# Examples of using logic functions\n",
        "print(\"AND(True, False):\", AND(True, False))  # Expected: False\n",
        "print(\"OR(True, False):\", OR(True, False))   # Expected: True\n",
        "print(\"NOT(True):\", NOT(True))                # Expected: False\n",
        "print(\"IMPLIES(True, False):\", IMPLIES(True, False))  # Expected: False\n"
      ]
    },
    {
      "cell_type": "markdown",
      "metadata": {
        "id": "knF1pCYqXVv9"
      },
      "source": [
        "### Explanation of Logical Functions:\n",
        "\n",
        "- **AND Operation**: Returns `True` if both propositions are true.\n",
        "- **OR Operation**: Returns `True` if at least one proposition is true.\n",
        "- **NOT Operation**: Returns `True` if the proposition is false.\n",
        "- **IMPLIES Operation**: Returns `True` unless the first proposition is true and the second is false.\n"
      ]
    },
    {
      "cell_type": "markdown",
      "metadata": {
        "id": "DXiBtjvMWm6l"
      },
      "source": [
        "## 2. Evaluating Logical Statements\n",
        "\n",
        "We create an `evaluate` function to process and compute the truth value of logical expressions based on provided proposition values.\n"
      ]
    },
    {
      "cell_type": "code",
      "execution_count": 2,
      "metadata": {
        "colab": {
          "base_uri": "https://localhost:8080/"
        },
        "id": "sj9NgMpYWtwF",
        "outputId": "4a41e492-9798-47f0-e8cb-3c09b0fb858d"
      },
      "outputs": [
        {
          "output_type": "stream",
          "name": "stdout",
          "text": [
            "False\n",
            "True\n",
            "False\n",
            "True\n"
          ]
        }
      ],
      "source": [
        "def evaluate(statement, values):\n",
        "    \"\"\"\n",
        "    Evaluate a logical statement based on given values for propositions.\n",
        "\n",
        "    Args:\n",
        "    statement (str): A logical expression (e.g., \"A and B or not C\").\n",
        "    values (dict): A dictionary mapping variables (e.g., 'A', 'B') to their truth values (True/False).\n",
        "\n",
        "    Returns:\n",
        "    bool: The truth value of the evaluated statement.\n",
        "    \"\"\"\n",
        "    statement = statement.replace('and', ' and ').replace('or', ' or ').replace('not', ' not ').replace('=>', ' or not ')\n",
        "\n",
        "    # Replace variables in the statement with their truth values\n",
        "    for var, val in values.items():\n",
        "        statement = statement.replace(var, str(val))\n",
        "\n",
        "    # Evaluate the expression\n",
        "    return eval(statement)\n",
        "\n",
        "# Test the evaluate function\n",
        "print(evaluate('A and B', {'A': True, 'B': False}))  # Expected: False\n",
        "print(evaluate('A or B', {'A': True, 'B': False}))   # Expected: True\n",
        "print(evaluate('not A', {'A': True}))                 # Expected: False\n",
        "print(evaluate('A => B', {'A': True, 'B': False}))    # Expected: False\n"
      ]
    },
    {
      "cell_type": "markdown",
      "metadata": {
        "id": "VgVd0jAxW0Wt"
      },
      "source": [
        "## 3. Predicate Logic with Quantifiers (FORALL and EXISTS)\n",
        "\n",
        "We implement the quantifiers FORALL and EXISTS to evaluate predicate logic statements over a given domain of values.\n"
      ]
    },
    {
      "cell_type": "code",
      "execution_count": 3,
      "metadata": {
        "colab": {
          "base_uri": "https://localhost:8080/"
        },
        "id": "FHv5Ht62W1FF",
        "outputId": "483dca97-d212-49f9-e27f-a00c2b9cde21"
      },
      "outputs": [
        {
          "output_type": "stream",
          "name": "stdout",
          "text": [
            "forall(predicate, domain): False\n",
            "exists(predicate, domain): True\n"
          ]
        }
      ],
      "source": [
        "def forall(predicate, domain):\n",
        "    \"\"\"\n",
        "    Evaluate a predicate for all elements in the domain.\n",
        "\n",
        "    Args:\n",
        "    predicate (function): A predicate function to evaluate.\n",
        "    domain (list): A list of values over which to evaluate the predicate.\n",
        "\n",
        "    Returns:\n",
        "    bool: True if the predicate is True for all elements in the domain.\n",
        "    \"\"\"\n",
        "    return all(predicate(x) for x in domain)\n",
        "\n",
        "def exists(predicate, domain):\n",
        "    \"\"\"\n",
        "    Evaluate if there exists an element in the domain for which the predicate is true.\n",
        "\n",
        "    Args:\n",
        "    predicate (function): A predicate function to evaluate.\n",
        "    domain (list): A list of values over which to evaluate the predicate.\n",
        "\n",
        "    Returns:\n",
        "    bool: True if the predicate is True for at least one element in the domain.\n",
        "    \"\"\"\n",
        "    return any(predicate(x) for x in domain)\n",
        "\n",
        "# Example using quantifiers\n",
        "predicate = lambda x: x > 0\n",
        "domain = [1, 2, 3, -1, -2]\n",
        "\n",
        "print(\"forall(predicate, domain):\", forall(predicate, domain))  # Expected: False\n",
        "print(\"exists(predicate, domain):\", exists(predicate, domain))  # Expected: True\n"
      ]
    },
    {
      "cell_type": "markdown",
      "metadata": {
        "id": "KMmR6EsAW5jl"
      },
      "source": [
        "## 4. AI Agent Decision-Making\n",
        "\n",
        "We extend propositional logic to implement a simple AI agent. The agent decides whether to go outside based on weather and temperature conditions.\n"
      ]
    },
    {
      "cell_type": "markdown",
      "metadata": {
        "id": "KAxKhPBmXeCk"
      },
      "source": [
        "## AI Agent Decision-Making\n",
        "\n",
        "The AI agent decides whether to go outside based on two factors:\n",
        "- **Weather**: This can be sunny, rainy, or cloudy.\n",
        "- **Temperature**: It can be hot, cold, or moderate.\n",
        "\n",
        "### Decision Rules:\n",
        "- If it is sunny and the temperature is moderate (not too hot or cold), the agent will decide to go outside.\n",
        "- If it is rainy or cold, the agent will stay inside.\n",
        "- If it is cloudy and the temperature is moderate, the agent will be undecided.\n"
      ]
    },
    {
      "cell_type": "code",
      "execution_count": 4,
      "metadata": {
        "colab": {
          "base_uri": "https://localhost:8080/"
        },
        "id": "emWJbZRAW70O",
        "outputId": "a184b1cd-2a3b-469a-ac42-b6ef488f14fb"
      },
      "outputs": [
        {
          "output_type": "stream",
          "name": "stdout",
          "text": [
            "Weather: sunny, Temperature: 25°C -> Decision: Go outside\n",
            "Weather: sunny, Temperature: 35°C -> Decision: Stay inside\n",
            "Weather: rainy, Temperature: 5°C -> Decision: Go outside\n",
            "Weather: cloudy, Temperature: 15°C -> Decision: Go outside\n",
            "Weather: cloudy, Temperature: 5°C -> Decision: Go outside\n",
            "Weather: sunny, Temperature: 5°C -> Decision: Stay inside\n",
            "Weather: rainy, Temperature: 15°C -> Decision: Go outside\n"
          ]
        }
      ],
      "source": [
        "def ai_agent(weather, temperature):\n",
        "    \"\"\"\n",
        "    AI agent that decides whether to go outside based on weather and temperature.\n",
        "\n",
        "    Args:\n",
        "    weather (str): The weather condition ('sunny', 'rainy', 'cloudy').\n",
        "    temperature (int): The current temperature in degrees Celsius.\n",
        "\n",
        "    Returns:\n",
        "    str: The decision made by the AI agent ('Go outside', 'Stay inside', or 'Undecided').\n",
        "    \"\"\"\n",
        "    sunny = (weather == 'sunny')\n",
        "    rainy = (weather == 'rainy')\n",
        "    cloudy = (weather == 'cloudy')\n",
        "    cold = (temperature < 10)\n",
        "    hot = (temperature > 30)\n",
        "    moderate = (10 <= temperature <= 30)\n",
        "\n",
        "    if IMPLIES(sunny, AND(NOT(cold), NOT(hot))):\n",
        "        return \"Go outside\"\n",
        "\n",
        "    if OR(rainy, cold):\n",
        "        return \"Stay inside\"\n",
        "\n",
        "    if AND(cloudy, moderate):\n",
        "        return \"Undecided\"\n",
        "\n",
        "    return \"Stay inside\"\n",
        "\n",
        "# Test cases for the AI agent\n",
        "test_cases = [\n",
        "    ('sunny', 25),    # Moderate sunny day: Go outside\n",
        "    ('sunny', 35),    # Hot sunny day: Stay inside\n",
        "    ('rainy', 5),     # Cold rainy day: Stay inside\n",
        "    ('cloudy', 15),   # Moderate cloudy day: Undecided\n",
        "    ('cloudy', 5),    # Cold cloudy day: Stay inside\n",
        "    ('sunny', 5),     # Cold sunny day: Stay inside\n",
        "    ('rainy', 15),    # Rainy moderate day: Stay inside\n",
        "]\n",
        "\n",
        "# Run and display results\n",
        "for weather, temp in test_cases:\n",
        "    decision = ai_agent(weather, temp)\n",
        "    print(f\"Weather: {weather}, Temperature: {temp}°C -> Decision: {decision}\")\n"
      ]
    },
    {
      "cell_type": "markdown",
      "metadata": {
        "id": "CiuLfCVgW_iF"
      },
      "source": [
        "\n",
        "## Conclusion\n",
        "\n",
        "This notebook demonstrates the implementation of propositional logic and predicate logic in Python. We showed how to evaluate logical expressions, use quantifiers with predicates, and extend logical reasoning to build an AI agent\n",
        "that makes decisions based on weather and temperature conditions.\n"
      ]
    }
  ],
  "metadata": {
    "colab": {
      "provenance": [],
      "authorship_tag": "ABX9TyMfz70PJOnE5J+n7RmdDPiv",
      "include_colab_link": true
    },
    "kernelspec": {
      "display_name": "Python 3",
      "name": "python3"
    },
    "language_info": {
      "name": "python"
    }
  },
  "nbformat": 4,
  "nbformat_minor": 0
}
