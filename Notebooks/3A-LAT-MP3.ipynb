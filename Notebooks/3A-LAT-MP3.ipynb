{
  "cells": [
    {
      "cell_type": "markdown",
      "metadata": {
        "id": "view-in-github",
        "colab_type": "text"
      },
      "source": [
        "<a href=\"https://colab.research.google.com/github/Betinsss/CSST101-3A/blob/main/Notebooks/3A-LAT-MP3.ipynb\" target=\"_parent\"><img src=\"https://colab.research.google.com/assets/colab-badge.svg\" alt=\"Open In Colab\"/></a>"
      ]
    },
    {
      "cell_type": "markdown",
      "metadata": {
        "id": "rp2mHsIjiNBZ"
      },
      "source": [
        "# **Machine Problem: Interactive Probability and Decision-Making in AI**\n",
        "\n",
        "\n",
        "**Objective**\n",
        "- In this machine problem, you will apply probability theory, Bayesian inference, and decisionmaking under uncertainty to real-world scenarios using Python. The goal is to create an interactive Python program that allows you to simulate and visualize probabilistic reasoning in various AI contexts."
      ]
    },
    {
      "cell_type": "markdown",
      "metadata": {
        "id": "8vUlP6rfifhj"
      },
      "source": [
        "### Part 1: Implement Basic Probability Calculations\n",
        "\n"
      ]
    },
    {
      "cell_type": "markdown",
      "metadata": {
        "id": "31IGEgl7i-gC"
      },
      "source": [
        "1. Task: Write Python functions to calculate the following"
      ]
    },
    {
      "cell_type": "markdown",
      "metadata": {
        "id": "EUBB4d3-j3RC"
      },
      "source": [
        "- Joint Probability"
      ]
    },
    {
      "cell_type": "code",
      "execution_count": 1,
      "metadata": {
        "id": "nRG9bCQUkAXu"
      },
      "outputs": [],
      "source": [
        "def joint_probability(p_a, p_b):\n",
        "    return p_a * p_b"
      ]
    },
    {
      "cell_type": "markdown",
      "metadata": {
        "id": "1PnvP-cYj7aV"
      },
      "source": [
        "- Marginal Probability"
      ]
    },
    {
      "cell_type": "code",
      "execution_count": 2,
      "metadata": {
        "id": "PM5tJh0NkEgj"
      },
      "outputs": [],
      "source": [
        "def marginal_probability(p_a_given_b, p_b):\n",
        "    return p_a_given_b * p_b"
      ]
    },
    {
      "cell_type": "markdown",
      "metadata": {
        "id": "SE8DatCMj90o"
      },
      "source": [
        "- Conditional Probability"
      ]
    },
    {
      "cell_type": "code",
      "execution_count": 3,
      "metadata": {
        "id": "xT_4EXW6kG0X"
      },
      "outputs": [],
      "source": [
        "def conditional_probability(p_a_and_b, p_b):\n",
        "    return p_a_and_b / p_b"
      ]
    },
    {
      "cell_type": "markdown",
      "metadata": {
        "id": "aG862xdAjC0-"
      },
      "source": [
        "2. Interactive Component\n"
      ]
    },
    {
      "cell_type": "code",
      "execution_count": 4,
      "metadata": {
        "colab": {
          "base_uri": "https://localhost:8080/"
        },
        "id": "wqp08PJukIHU",
        "outputId": "1cd8ebdb-b875-4298-c7e6-69dcfe709422"
      },
      "outputs": [
        {
          "output_type": "stream",
          "name": "stdout",
          "text": [
            "Enter the probability of event A: 2\n",
            "Enter the probability of event B: 3\n",
            "Enter the probability of B given A: 6\n",
            "\n",
            "Joint probability: 6.0\n",
            "\n",
            "Marginal probability: 12.0\n",
            "\n",
            "Conditional probability: 2.0\n"
          ]
        }
      ],
      "source": [
        "def main():\n",
        "    p_a = float(input(\"Enter the probability of event A: \"))\n",
        "    p_b = float(input(\"Enter the probability of event B: \"))\n",
        "    p_b_given_a = float(input(\"Enter the probability of B given A: \"))\n",
        "\n",
        "    joint_prob = joint_probability(p_a, p_b)\n",
        "    print(f\"\\nJoint probability: {joint_prob}\")\n",
        "\n",
        "    marginal_prob = marginal_probability(p_b_given_a, p_a)\n",
        "    print(f\"\\nMarginal probability: {marginal_prob}\")\n",
        "\n",
        "    cond_prob = conditional_probability(joint_prob, p_b)\n",
        "    print(f\"\\nConditional probability: {cond_prob}\")\n",
        "\n",
        "main()"
      ]
    },
    {
      "cell_type": "markdown",
      "metadata": {
        "id": "V91ADsq7jFI6"
      },
      "source": [
        "### Part 2: Bayesian Inference for Real-World Scenarios\n",
        "\n"
      ]
    },
    {
      "cell_type": "markdown",
      "metadata": {
        "id": "Xq8_7BIujKn4"
      },
      "source": [
        "1. Task: Implement a Python function that uses Bayesian inference to update\n",
        "probabilities based on new evidence."
      ]
    },
    {
      "cell_type": "code",
      "execution_count": 5,
      "metadata": {
        "id": "jhcIh2pckUDh"
      },
      "outputs": [],
      "source": [
        "def bayesian_inference(p_prior, p_pos_given_disease, p_pos):\n",
        "    return (p_pos_given_disease * p_prior) / p_pos"
      ]
    },
    {
      "cell_type": "markdown",
      "metadata": {
        "id": "Kbyr1nEQjQdP"
      },
      "source": [
        "2. Interactive Component:\n"
      ]
    },
    {
      "cell_type": "code",
      "execution_count": 6,
      "metadata": {
        "colab": {
          "base_uri": "https://localhost:8080/"
        },
        "id": "6w6BrOwykWh-",
        "outputId": "91b95fc0-d99e-4fcf-f3f2-df8b14f946b2"
      },
      "outputs": [
        {
          "output_type": "stream",
          "name": "stdout",
          "text": [
            "Enter the prior probability of disease: 5\n",
            "Enter the likelihood of a positive test given disease: 1\n",
            "Enter the overall probability of a positive test: 8\n",
            "\n",
            "Posterior probability of disease given positive test: 0.6250\n"
          ]
        }
      ],
      "source": [
        "p_prior = float(input(\"Enter the prior probability of disease: \"))\n",
        "p_pos_given_disease = float(input(\"Enter the likelihood of a positive test given disease: \"))\n",
        "p_pos = float(input(\"Enter the overall probability of a positive test: \"))\n",
        "\n",
        "posterior_prob = bayesian_inference(p_prior, p_pos_given_disease, p_pos)\n",
        "\n",
        "print(f\"\\nPosterior probability of disease given positive test: {posterior_prob:.4f}\")"
      ]
    },
    {
      "cell_type": "markdown",
      "metadata": {
        "id": "XmIk2ixYjSIp"
      },
      "source": [
        "### Part 3: Simulate Decision-Making Under Uncertainty\n",
        "\n"
      ]
    },
    {
      "cell_type": "markdown",
      "metadata": {
        "id": "0lZkREnLjVoR"
      },
      "source": [
        "1. Task: Write a Python function to simulate a decision-making process where\n",
        "outcomes are uncertain (e.g., investment decisions). Use a probability distribution to\n",
        "model the decision’s potential outcomes."
      ]
    },
    {
      "cell_type": "code",
      "execution_count": 7,
      "metadata": {
        "id": "YLEI8BX1kZWN"
      },
      "outputs": [],
      "source": [
        "import numpy as np\n",
        "\n",
        "def simulate_decision(prob_success, reward, penalty, trials):\n",
        "    results = []\n",
        "    for _ in range(trials):\n",
        "        if np.random.rand() < prob_success:\n",
        "            results.append(reward)\n",
        "        else:\n",
        "            results.append(penalty)\n",
        "    return np.mean(results)"
      ]
    },
    {
      "cell_type": "markdown",
      "metadata": {
        "id": "WRO62VNLjbdL"
      },
      "source": [
        "2. Interactive Component:\n"
      ]
    },
    {
      "cell_type": "code",
      "execution_count": 8,
      "metadata": {
        "colab": {
          "base_uri": "https://localhost:8080/"
        },
        "id": "-I8_6yi-kb85",
        "outputId": "9fd943c7-4be6-4911-9214-3b153282dc83"
      },
      "outputs": [
        {
          "output_type": "stream",
          "name": "stdout",
          "text": [
            "Enter the probability of success: 4\n",
            "Enter the reward for success: 5\n",
            "Enter the penalty for failure: 2\n",
            "Enter the number of trials: 4\n",
            "\n",
            "Average return after 4 trials: 104.0\n"
          ]
        }
      ],
      "source": [
        "def simulate_decision(prob_success, reward, penalty, trials):\n",
        "    return (prob_success * reward - (1 - prob_success) * penalty) * trials\n",
        "\n",
        "prob_success = float(input(\"Enter the probability of success: \"))\n",
        "reward = float(input(\"Enter the reward for success: \"))\n",
        "penalty = float(input(\"Enter the penalty for failure: \"))\n",
        "trials = int(input(\"Enter the number of trials: \"))\n",
        "\n",
        "average_return = simulate_decision(prob_success, reward, penalty, trials)\n",
        "print(f\"\\nAverage return after {trials} trials: {average_return}\")"
      ]
    },
    {
      "cell_type": "markdown",
      "metadata": {
        "id": "EXeG2ccBjdFD"
      },
      "source": [
        "### Part 4: Visualize Probability Distributions\n",
        "\n"
      ]
    },
    {
      "cell_type": "markdown",
      "metadata": {
        "id": "TybRQWNSjfrk"
      },
      "source": [
        "1. Task: Use Python to generate and visualize binomial and normal probability\n",
        "distributions. The visualizations should represent real-world scenarios like coin\n",
        "flips or dice rolls.\n"
      ]
    },
    {
      "cell_type": "code",
      "execution_count": 9,
      "metadata": {
        "id": "IEsz0d5Dke5s"
      },
      "outputs": [],
      "source": [
        "import matplotlib.pyplot as plt\n",
        "import numpy as np\n",
        "from scipy.stats import binom, norm\n",
        "\n",
        "def visualize_binomial(n, p):\n",
        "    x = np.arange(0, n+1)\n",
        "    binom_dist = binom.pmf(x, n, p)\n",
        "    plt.bar(x, binom_dist)\n",
        "    plt.title(\"Binomial Distribution (Coin Flips)\")\n",
        "    plt.xlabel(\"Number of Heads (Successes)\")\n",
        "    plt.ylabel(\"Probability\")\n",
        "    plt.show()\n",
        "\n",
        "def visualize_normal(mean, std):\n",
        "    x = np.linspace(mean - 4*std, mean + 4*std, 1000)\n",
        "    normal_dist = norm.pdf(x, mean, std)\n",
        "    plt.plot(x, normal_dist)\n",
        "    plt.title(\"Normal Distribution (Exam Scores)\")\n",
        "    plt.xlabel(\"Score\")\n",
        "    plt.ylabel(\"Probability Density\")\n",
        "    plt.show()"
      ]
    },
    {
      "cell_type": "markdown",
      "metadata": {
        "id": "WmtlHPMDjkYU"
      },
      "source": [
        "2. Interactive Component:\n"
      ]
    },
    {
      "cell_type": "code",
      "execution_count": 10,
      "metadata": {
        "colab": {
          "base_uri": "https://localhost:8080/",
          "height": 663
        },
        "id": "fieRdRllkhQX",
        "outputId": "9d067850-a6c8-4ec5-e1f2-abfc10a67aec"
      },
      "outputs": [
        {
          "output_type": "stream",
          "name": "stdout",
          "text": [
            "Choose a distribution to simulate:\n",
            "1. Binomial (Coin flips)\n",
            "2. Normal (Exam scores)\n",
            "\n",
            "Enter 1 for Binomial or 2 for Normal: 2\n",
            "\n",
            "You selected: Normal (Exam scores)\n",
            "\n",
            "Enter the mean score: 5\n",
            "Enter the standard deviation of the scores: 1\n",
            "\n"
          ]
        },
        {
          "output_type": "display_data",
          "data": {
            "text/plain": [
              "<Figure size 640x480 with 1 Axes>"
            ],
            "image/png": "[encoded data removed]"
          },
          "metadata": {}
        }
      ],
      "source": [
        "print(\"Choose a distribution to simulate:\\n1. Binomial (Coin flips)\\n2. Normal (Exam scores)\\n\")\n",
        "\n",
        "dist_choice = input(\"Enter 1 for Binomial or 2 for Normal: \")\n",
        "\n",
        "if dist_choice == \"1\":\n",
        "    print(\"\\nYou selected: Binomial (Coin flips)\\n\")\n",
        "    n = int(input(\"Enter the number of trials: \"))\n",
        "    p = float(input(\"Enter the probability of heads (success): \"))\n",
        "    print()\n",
        "    visualize_binomial(n, p)\n",
        "\n",
        "elif dist_choice == \"2\":\n",
        "    print(\"\\nYou selected: Normal (Exam scores)\\n\")\n",
        "    mean = float(input(\"Enter the mean score: \"))\n",
        "    std = float(input(\"Enter the standard deviation of the scores: \"))\n",
        "    print()\n",
        "    visualize_normal(mean, std)\n",
        "\n",
        "else:\n",
        "    print(\"\\nInvalid choice! Please enter 1 for Binomial or 2 for Normal.\")"
      ]
    },
    {
      "cell_type": "markdown",
      "metadata": {
        "id": "fX4Ljn5LjmcF"
      },
      "source": [
        "### Part 5: Real-World Scenario Prediction\n",
        "\n"
      ]
    },
    {
      "cell_type": "markdown",
      "metadata": {
        "id": "hLjQ0-tujpiu"
      },
      "source": [
        "1. Task: Write a Python script that uses conditional probability to predict a realworld event. The scenario should involve predicting the probability of rain based on\n",
        "inputs like humidity and cloud cover."
      ]
    },
    {
      "cell_type": "code",
      "execution_count": 11,
      "metadata": {
        "id": "QJmQhFcFkojR"
      },
      "outputs": [],
      "source": [
        "def rain_prediction(humidity_level, cloud_cover_level):\n",
        "    p_humidity = humidity_level\n",
        "    p_cloud = cloud_cover_level\n",
        "\n",
        "    p_rain = 0.3\n",
        "    p_humidity_given_rain = 0.8\n",
        "    p_cloud_given_rain = 0.7\n",
        "\n",
        "    return (p_humidity_given_rain * p_cloud_given_rain * p_rain) / (p_humidity * p_cloud)"
      ]
    },
    {
      "cell_type": "markdown",
      "metadata": {
        "id": "_zvL2kp4junS"
      },
      "source": [
        "2. Interactive Component:"
      ]
    },
    {
      "cell_type": "code",
      "execution_count": 12,
      "metadata": {
        "colab": {
          "base_uri": "https://localhost:8080/"
        },
        "id": "ze-gykOykpNj",
        "outputId": "dfdb453d-1942-425f-cb7e-00da34c887f1"
      },
      "outputs": [
        {
          "output_type": "stream",
          "name": "stdout",
          "text": [
            "Enter the humidity level (0 to 1): 1\n",
            "Enter the cloud cover level (0 to 1): 1\n",
            "\n",
            "Probability of rain: 0.17\n"
          ]
        }
      ],
      "source": [
        "humidity_level = float(input(\"Enter the humidity level (0 to 1): \"))\n",
        "cloud_cover_level = float(input(\"Enter the cloud cover level (0 to 1): \"))\n",
        "\n",
        "rain_prob = rain_prediction(humidity_level, cloud_cover_level)\n",
        "print(f\"\\nProbability of rain: {rain_prob:.2f}\")"
      ]
    }
  ],
  "metadata": {
    "colab": {
      "provenance": [],
      "include_colab_link": true
    },
    "kernelspec": {
      "display_name": "Python 3",
      "name": "python3"
    },
    "language_info": {
      "name": "python"
    }
  },
  "nbformat": 4,
  "nbformat_minor": 0
}