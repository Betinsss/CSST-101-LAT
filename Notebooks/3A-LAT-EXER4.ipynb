{
  "nbformat": 4,
  "nbformat_minor": 0,
  "metadata": {
    "colab": {
      "provenance": [],
      "authorship_tag": "ABX9TyNHGTyenv0dP/QoUt8nQC9r",
      "include_colab_link": true
    },
    "kernelspec": {
      "name": "python3",
      "display_name": "Python 3"
    },
    "language_info": {
      "name": "python"
    }
  },
  "cells": [
    {
      "cell_type": "markdown",
      "metadata": {
        "id": "view-in-github",
        "colab_type": "text"
      },
      "source": [
        "<a href=\"https://colab.research.google.com/github/Betinsss/CSST101-3A/blob/main/Notebooks/3A-LAT-EXER4.ipynb\" target=\"_parent\"><img src=\"https://colab.research.google.com/assets/colab-badge.svg\" alt=\"Open In Colab\"/></a>"
      ]
    },
    {
      "cell_type": "markdown",
      "source": [
        "#**Implementation of Bayesian Networks in Google Colab**"
      ],
      "metadata": {
        "id": "w5R64Bnf2jJM"
      }
    },
    {
      "cell_type": "markdown",
      "source": [
        "##**Exercise 1: Setting Up the Environment**\n",
        "\n"
      ],
      "metadata": {
        "id": "rTtrEOzw2pUM"
      }
    },
    {
      "cell_type": "markdown",
      "source": [
        "**1. Install the Required Library:**"
      ],
      "metadata": {
        "id": "cGtpCwTv2xzT"
      }
    },
    {
      "cell_type": "code",
      "execution_count": null,
      "metadata": {
        "colab": {
          "base_uri": "https://localhost:8080/"
        },
        "id": "a3JQA1JN2TXh",
        "outputId": "750710ca-f6ff-40e7-e4cd-9c6fc9c10da4"
      },
      "outputs": [
        {
          "output_type": "stream",
          "name": "stdout",
          "text": [
            "Requirement already satisfied: pgmpy in /usr/local/lib/python3.10/dist-packages (0.1.26)\n",
            "Requirement already satisfied: networkx in /usr/local/lib/python3.10/dist-packages (from pgmpy) (3.3)\n",
            "Requirement already satisfied: numpy in /usr/local/lib/python3.10/dist-packages (from pgmpy) (1.26.4)\n",
            "Requirement already satisfied: scipy in /usr/local/lib/python3.10/dist-packages (from pgmpy) (1.13.1)\n",
            "Requirement already satisfied: scikit-learn in /usr/local/lib/python3.10/dist-packages (from pgmpy) (1.5.2)\n",
            "Requirement already satisfied: pandas in /usr/local/lib/python3.10/dist-packages (from pgmpy) (2.2.2)\n",
            "Requirement already satisfied: pyparsing in /usr/local/lib/python3.10/dist-packages (from pgmpy) (3.1.4)\n",
            "Requirement already satisfied: torch in /usr/local/lib/python3.10/dist-packages (from pgmpy) (2.4.1+cu121)\n",
            "Requirement already satisfied: statsmodels in /usr/local/lib/python3.10/dist-packages (from pgmpy) (0.14.4)\n",
            "Requirement already satisfied: tqdm in /usr/local/lib/python3.10/dist-packages (from pgmpy) (4.66.5)\n",
            "Requirement already satisfied: joblib in /usr/local/lib/python3.10/dist-packages (from pgmpy) (1.4.2)\n",
            "Requirement already satisfied: opt-einsum in /usr/local/lib/python3.10/dist-packages (from pgmpy) (3.4.0)\n",
            "Requirement already satisfied: xgboost in /usr/local/lib/python3.10/dist-packages (from pgmpy) (2.1.1)\n",
            "Requirement already satisfied: google-generativeai in /usr/local/lib/python3.10/dist-packages (from pgmpy) (0.7.2)\n",
            "Requirement already satisfied: google-ai-generativelanguage==0.6.6 in /usr/local/lib/python3.10/dist-packages (from google-generativeai->pgmpy) (0.6.6)\n",
            "Requirement already satisfied: google-api-core in /usr/local/lib/python3.10/dist-packages (from google-generativeai->pgmpy) (2.19.2)\n",
            "Requirement already satisfied: google-api-python-client in /usr/local/lib/python3.10/dist-packages (from google-generativeai->pgmpy) (2.137.0)\n",
            "Requirement already satisfied: google-auth>=2.15.0 in /usr/local/lib/python3.10/dist-packages (from google-generativeai->pgmpy) (2.27.0)\n",
            "Requirement already satisfied: protobuf in /usr/local/lib/python3.10/dist-packages (from google-generativeai->pgmpy) (3.20.3)\n",
            "Requirement already satisfied: pydantic in /usr/local/lib/python3.10/dist-packages (from google-generativeai->pgmpy) (2.9.2)\n",
            "Requirement already satisfied: typing-extensions in /usr/local/lib/python3.10/dist-packages (from google-generativeai->pgmpy) (4.12.2)\n",
            "Requirement already satisfied: proto-plus<2.0.0dev,>=1.22.3 in /usr/local/lib/python3.10/dist-packages (from google-ai-generativelanguage==0.6.6->google-generativeai->pgmpy) (1.24.0)\n",
            "Requirement already satisfied: python-dateutil>=2.8.2 in /usr/local/lib/python3.10/dist-packages (from pandas->pgmpy) (2.8.2)\n",
            "Requirement already satisfied: pytz>=2020.1 in /usr/local/lib/python3.10/dist-packages (from pandas->pgmpy) (2024.2)\n",
            "Requirement already satisfied: tzdata>=2022.7 in /usr/local/lib/python3.10/dist-packages (from pandas->pgmpy) (2024.2)\n",
            "Requirement already satisfied: threadpoolctl>=3.1.0 in /usr/local/lib/python3.10/dist-packages (from scikit-learn->pgmpy) (3.5.0)\n",
            "Requirement already satisfied: patsy>=0.5.6 in /usr/local/lib/python3.10/dist-packages (from statsmodels->pgmpy) (0.5.6)\n",
            "Requirement already satisfied: packaging>=21.3 in /usr/local/lib/python3.10/dist-packages (from statsmodels->pgmpy) (24.1)\n",
            "Requirement already satisfied: filelock in /usr/local/lib/python3.10/dist-packages (from torch->pgmpy) (3.16.1)\n",
            "Requirement already satisfied: sympy in /usr/local/lib/python3.10/dist-packages (from torch->pgmpy) (1.13.3)\n",
            "Requirement already satisfied: jinja2 in /usr/local/lib/python3.10/dist-packages (from torch->pgmpy) (3.1.4)\n",
            "Requirement already satisfied: fsspec in /usr/local/lib/python3.10/dist-packages (from torch->pgmpy) (2024.6.1)\n",
            "Requirement already satisfied: nvidia-nccl-cu12 in /usr/local/lib/python3.10/dist-packages (from xgboost->pgmpy) (2.23.4)\n",
            "Requirement already satisfied: googleapis-common-protos<2.0.dev0,>=1.56.2 in /usr/local/lib/python3.10/dist-packages (from google-api-core->google-generativeai->pgmpy) (1.65.0)\n",
            "Requirement already satisfied: requests<3.0.0.dev0,>=2.18.0 in /usr/local/lib/python3.10/dist-packages (from google-api-core->google-generativeai->pgmpy) (2.32.3)\n",
            "Requirement already satisfied: cachetools<6.0,>=2.0.0 in /usr/local/lib/python3.10/dist-packages (from google-auth>=2.15.0->google-generativeai->pgmpy) (5.5.0)\n",
            "Requirement already satisfied: pyasn1-modules>=0.2.1 in /usr/local/lib/python3.10/dist-packages (from google-auth>=2.15.0->google-generativeai->pgmpy) (0.4.1)\n",
            "Requirement already satisfied: rsa<5,>=3.1.4 in /usr/local/lib/python3.10/dist-packages (from google-auth>=2.15.0->google-generativeai->pgmpy) (4.9)\n",
            "Requirement already satisfied: six in /usr/local/lib/python3.10/dist-packages (from patsy>=0.5.6->statsmodels->pgmpy) (1.16.0)\n",
            "Requirement already satisfied: httplib2<1.dev0,>=0.19.0 in /usr/local/lib/python3.10/dist-packages (from google-api-python-client->google-generativeai->pgmpy) (0.22.0)\n",
            "Requirement already satisfied: google-auth-httplib2<1.0.0,>=0.2.0 in /usr/local/lib/python3.10/dist-packages (from google-api-python-client->google-generativeai->pgmpy) (0.2.0)\n",
            "Requirement already satisfied: uritemplate<5,>=3.0.1 in /usr/local/lib/python3.10/dist-packages (from google-api-python-client->google-generativeai->pgmpy) (4.1.1)\n",
            "Requirement already satisfied: MarkupSafe>=2.0 in /usr/local/lib/python3.10/dist-packages (from jinja2->torch->pgmpy) (2.1.5)\n",
            "Requirement already satisfied: annotated-types>=0.6.0 in /usr/local/lib/python3.10/dist-packages (from pydantic->google-generativeai->pgmpy) (0.7.0)\n",
            "Requirement already satisfied: pydantic-core==2.23.4 in /usr/local/lib/python3.10/dist-packages (from pydantic->google-generativeai->pgmpy) (2.23.4)\n",
            "Requirement already satisfied: mpmath<1.4,>=1.1.0 in /usr/local/lib/python3.10/dist-packages (from sympy->torch->pgmpy) (1.3.0)\n",
            "Requirement already satisfied: grpcio<2.0dev,>=1.33.2 in /usr/local/lib/python3.10/dist-packages (from google-api-core[grpc]!=2.0.*,!=2.1.*,!=2.10.*,!=2.2.*,!=2.3.*,!=2.4.*,!=2.5.*,!=2.6.*,!=2.7.*,!=2.8.*,!=2.9.*,<3.0.0dev,>=1.34.1->google-ai-generativelanguage==0.6.6->google-generativeai->pgmpy) (1.64.1)\n",
            "Requirement already satisfied: grpcio-status<2.0.dev0,>=1.33.2 in /usr/local/lib/python3.10/dist-packages (from google-api-core[grpc]!=2.0.*,!=2.1.*,!=2.10.*,!=2.2.*,!=2.3.*,!=2.4.*,!=2.5.*,!=2.6.*,!=2.7.*,!=2.8.*,!=2.9.*,<3.0.0dev,>=1.34.1->google-ai-generativelanguage==0.6.6->google-generativeai->pgmpy) (1.48.2)\n",
            "Requirement already satisfied: pyasn1<0.7.0,>=0.4.6 in /usr/local/lib/python3.10/dist-packages (from pyasn1-modules>=0.2.1->google-auth>=2.15.0->google-generativeai->pgmpy) (0.6.1)\n",
            "Requirement already satisfied: charset-normalizer<4,>=2 in /usr/local/lib/python3.10/dist-packages (from requests<3.0.0.dev0,>=2.18.0->google-api-core->google-generativeai->pgmpy) (3.3.2)\n",
            "Requirement already satisfied: idna<4,>=2.5 in /usr/local/lib/python3.10/dist-packages (from requests<3.0.0.dev0,>=2.18.0->google-api-core->google-generativeai->pgmpy) (3.10)\n",
            "Requirement already satisfied: urllib3<3,>=1.21.1 in /usr/local/lib/python3.10/dist-packages (from requests<3.0.0.dev0,>=2.18.0->google-api-core->google-generativeai->pgmpy) (2.2.3)\n",
            "Requirement already satisfied: certifi>=2017.4.17 in /usr/local/lib/python3.10/dist-packages (from requests<3.0.0.dev0,>=2.18.0->google-api-core->google-generativeai->pgmpy) (2024.8.30)\n"
          ]
        }
      ],
      "source": [
        "!pip install pgmpy\n"
      ]
    },
    {
      "cell_type": "markdown",
      "source": [
        "**2. Import Libraries:**"
      ],
      "metadata": {
        "id": "hO9M_r1u27HL"
      }
    },
    {
      "cell_type": "code",
      "source": [
        "import numpy as np\n",
        "import pandas as pd\n",
        "from pgmpy.models import BayesianNetwork\n",
        "from pgmpy.factors.discrete import TabularCPD\n",
        "from pgmpy.inference import VariableElimination\n",
        "from pgmpy.inference import BeliefPropagation\n"
      ],
      "metadata": {
        "id": "qPoBVc7g2-0L"
      },
      "execution_count": null,
      "outputs": []
    },
    {
      "cell_type": "markdown",
      "source": [
        "##**Exercise 2: Building a Simple Bayesian Network**"
      ],
      "metadata": {
        "id": "W0BW8pZk3fLK"
      }
    },
    {
      "cell_type": "markdown",
      "source": [
        "**1. Define the Structure:**"
      ],
      "metadata": {
        "id": "FJfCk5cy3jLy"
      }
    },
    {
      "cell_type": "code",
      "source": [
        "# Define the Bayesian Network structure\n",
        "model = BayesianNetwork([('Weather', 'Traffic'), ('Traffic', 'Late')])\n"
      ],
      "metadata": {
        "id": "fBDVVaJ43eD6"
      },
      "execution_count": null,
      "outputs": []
    },
    {
      "cell_type": "markdown",
      "source": [
        "**2. Define Conditional Probability Tables (CPTs):**"
      ],
      "metadata": {
        "id": "QaQHo3fK3rDb"
      }
    },
    {
      "cell_type": "code",
      "source": [
        "# CPD for Weather: P(Weather)\n",
        "cpd_weather = TabularCPD(variable='Weather', variable_card=2, values=[[0.7], [0.3]],\n",
        "                         state_names={'Weather': ['Sunny', 'Rainy']})\n",
        "\n",
        "# CPD for Traffic: P(Traffic | Weather)\n",
        "cpd_traffic = TabularCPD(variable='Traffic', variable_card=2,\n",
        "                         values=[[0.8, 0.4], [0.2, 0.6]],\n",
        "                         evidence=['Weather'], evidence_card=[2],\n",
        "                         state_names={'Traffic': ['Light', 'Heavy'], 'Weather': ['Sunny', 'Rainy']})\n",
        "\n",
        "# CPD for Late: P(Late | Traffic)\n",
        "cpd_late = TabularCPD(variable='Late', variable_card=2,\n",
        "                      values=[[0.9, 0.3], [0.1, 0.7]],\n",
        "                      evidence=['Traffic'], evidence_card=[2],\n",
        "                      state_names={'Late': ['On Time', 'Late'], 'Traffic': ['Light', 'Heavy']})\n",
        "\n",
        "# Add CPDs to the model\n",
        "model.add_cpds(cpd_weather, cpd_traffic, cpd_late)\n",
        "\n",
        "# Verify if the model is valid\n",
        "assert model.check_model()\n"
      ],
      "metadata": {
        "id": "tiOKKjP43tKL"
      },
      "execution_count": null,
      "outputs": []
    },
    {
      "cell_type": "markdown",
      "source": [
        "##**Exercise 3: Querying the Bayesian Network**"
      ],
      "metadata": {
        "id": "1l6g0Zyf3pRb"
      }
    },
    {
      "cell_type": "markdown",
      "source": [
        "**1. Perform Exact Inference:**"
      ],
      "metadata": {
        "id": "ezrfHIn03656"
      }
    },
    {
      "source": [
        "# Perform inference\n",
        "inference = VariableElimination(model)\n",
        "\n",
        "# Query: P(Late | Weather=Rainy)\n",
        "result = inference.query(variables=['Late'], evidence={'Weather': 'Rainy'}) # Use 'Rainy' instead of 1\n",
        "print(result)"
      ],
      "cell_type": "code",
      "metadata": {
        "colab": {
          "base_uri": "https://localhost:8080/"
        },
        "id": "fLLhhoSj4O4y",
        "outputId": "08cea260-88c5-4351-d336-5db8f23691c0"
      },
      "execution_count": null,
      "outputs": [
        {
          "output_type": "stream",
          "name": "stdout",
          "text": [
            "+---------------+-------------+\n",
            "| Late          |   phi(Late) |\n",
            "+===============+=============+\n",
            "| Late(On Time) |      0.5400 |\n",
            "+---------------+-------------+\n",
            "| Late(Late)    |      0.4600 |\n",
            "+---------------+-------------+\n"
          ]
        }
      ]
    },
    {
      "cell_type": "markdown",
      "source": [
        "##**Exercise 4: Parameter Learning**\n"
      ],
      "metadata": {
        "id": "xzhMpNkD4SSK"
      }
    },
    {
      "cell_type": "markdown",
      "source": [
        "**1. Simulate a Dataset:**"
      ],
      "metadata": {
        "id": "iB-zQU294V7y"
      }
    },
    {
      "cell_type": "code",
      "source": [
        "data = pd.DataFrame(data={'Weather': np.random.choice(['Sunny', 'Rainy'], size=1000, p=[0.7, 0.3]),\n",
        "                          'Traffic': np.random.choice(['Light', 'Heavy'], size=1000, p=[0.6, 0.4]),\n",
        "                          'Late': np.random.choice(['On Time', 'Late'], size=1000, p=[0.8, 0.2])})\n"
      ],
      "metadata": {
        "id": "OxS9RxTH4Yi6"
      },
      "execution_count": null,
      "outputs": []
    },
    {
      "cell_type": "code",
      "source": [
        "\n",
        "# Create a synthetic dataset # for Sunny, 1 for Rainy\n",
        "data = pd.DataFrame({\n",
        "    'Weather': np.random.choice([0, 1], size=1000, p=[0.8, 0.2]), 'Traffic': np.nan,\n",
        "    'Late': np.nan\n",
        "})\n",
        "# Fill Traffic based on Weather\n",
        "data.loc[data['Weather'] == 0, 'Traffic'] = np.random.choice(\n",
        "      [0, 1],\n",
        "      size=data[data['Weather']== 0].shape[0],\n",
        "      p=[0.9, 0.1]\n",
        ")\n",
        "data.loc[data['Weather'] == 1, 'Traffic'] = np.random.choice(\n",
        "      [0, 1],\n",
        "      size=data[data['Weather']==1].shape[0],\n",
        "      p=[0.5, 0.5]\n",
        ")\n",
        "# Fill Late based on Traffic\n",
        "data['Late'] = np.where(\n",
        "    data['Traffic'] == 0,\n",
        "    np.random.choice([0, 1], size=data.shape[0], p=[0.95, 0.05]),\n",
        "    np.random.choice([0, 1], size=data.shape[0], p=[0.4, 0.6])\n",
        ")"
      ],
      "metadata": {
        "id": "LqR9bNAz5L4a"
      },
      "execution_count": null,
      "outputs": []
    },
    {
      "cell_type": "markdown",
      "source": [
        "**2. Estimate the Parameters:**\n"
      ],
      "metadata": {
        "id": "FSY_cET053VB"
      }
    },
    {
      "cell_type": "code",
      "source": [
        "from pgmpy.estimators import MaximumLikelihoodEstimator\n",
        "\n",
        "# Create a new model with the same structure\n",
        "model = BayesianNetwork([('Weather', 'Traffic'), ('Traffic', 'Late')])\n",
        "\n",
        "# Estimate the CPDs from the data\n",
        "model.fit(data, estimator=MaximumLikelihoodEstimator)\n",
        "\n",
        "# Print learned CPDs\n",
        "for cpd in model.get_cpds():\n",
        "    print(cpd)\n"
      ],
      "metadata": {
        "colab": {
          "base_uri": "https://localhost:8080/"
        },
        "id": "20MG0AQQ54bS",
        "outputId": "c7fa6cf4-c805-49dd-ecb7-76bdc4c71870"
      },
      "execution_count": null,
      "outputs": [
        {
          "output_type": "stream",
          "name": "stdout",
          "text": [
            "+------------+-------+\n",
            "| Weather(0) | 0.795 |\n",
            "+------------+-------+\n",
            "| Weather(1) | 0.205 |\n",
            "+------------+-------+\n",
            "+--------------+---------------------+---------------------+\n",
            "| Weather      | Weather(0)          | Weather(1)          |\n",
            "+--------------+---------------------+---------------------+\n",
            "| Traffic(0.0) | 0.8968553459119497  | 0.47804878048780486 |\n",
            "+--------------+---------------------+---------------------+\n",
            "| Traffic(1.0) | 0.10314465408805032 | 0.5219512195121951  |\n",
            "+--------------+---------------------+---------------------+\n",
            "+---------+---------------------+---------------------+\n",
            "| Traffic | Traffic(0.0)        | Traffic(1.0)        |\n",
            "+---------+---------------------+---------------------+\n",
            "| Late(0) | 0.9395807644882861  | 0.41798941798941797 |\n",
            "+---------+---------------------+---------------------+\n",
            "| Late(1) | 0.06041923551171394 | 0.582010582010582   |\n",
            "+---------+---------------------+---------------------+\n"
          ]
        }
      ]
    },
    {
      "cell_type": "markdown",
      "source": [
        "##**Exercise 5: Visualizing the Bayesian Networkt**"
      ],
      "metadata": {
        "id": "iKq1e0oL6F0y"
      }
    },
    {
      "cell_type": "markdown",
      "source": [
        "**1. Visualize the Network Structure:**\n"
      ],
      "metadata": {
        "id": "LPhe4DAY6IAJ"
      }
    },
    {
      "cell_type": "code",
      "source": [
        "import matplotlib.pyplot as plt\n",
        "import networkx as nx\n",
        "\n",
        "# Create a NetworkX graph from the Bayesian Network\n",
        "nx_graph = nx.DiGraph()\n",
        "\n",
        "# Add nodes\n",
        "for cpd in model.get_cpds():\n",
        "    nx_graph.add_node(cpd.variable)\n",
        "\n",
        "# Add edges based on the structure of the Bayesian Network\n",
        "for parent, child in model.edges():\n",
        "    nx_graph.add_edge(parent, child)\n",
        "\n",
        "# Draw the graph\n",
        "plt.figure(figsize=(8, 6))\n",
        "pos = nx.spring_layout(nx_graph)  # Define the layout for the nodes\n",
        "nx.draw(\n",
        "    nx_graph, pos,\n",
        "    with_labels=True,\n",
        "    node_color='lightblue',\n",
        "    font_weight='bold',\n",
        "    arrows=True\n",
        ")\n",
        "plt.title('Bayesian Network Structure')\n",
        "plt.show()\n"
      ],
      "metadata": {
        "colab": {
          "base_uri": "https://localhost:8080/",
          "height": 659
        },
        "id": "3cAqtOJM7VyR",
        "outputId": "e63a1a30-a5b0-4714-f878-4541c4274264"
      },
      "execution_count": null,
      "outputs": [
        {
          "output_type": "display_data",
          "data": {
            "text/plain": [
              "<Figure size 800x600 with 1 Axes>"
            ],
            "image/png": "[encoded data removed]"
          },
          "metadata": {}
        }
      ]
    }
  ]
}